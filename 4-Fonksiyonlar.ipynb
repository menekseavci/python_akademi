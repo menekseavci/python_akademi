{
 "cells": [
  {
   "cell_type": "markdown",
   "metadata": {},
   "source": [
    "**Fonksiyonlar**\n",
    "\n",
    "def anahtar kelimesi ile oluşturulur\n",
    "\n",
    "def fonksiyon_ismi(required):\n",
    "    return(optional)\n"
   ]
  },
  {
   "cell_type": "markdown",
   "metadata": {},
   "source": [
    "*Parametreli\n",
    "\n",
    "*Parametresiz\n"
   ]
  },
  {
   "cell_type": "code",
   "execution_count": 1,
   "metadata": {},
   "outputs": [
    {
     "name": "stdout",
     "output_type": "stream",
     "text": [
      "Hoş geldiniz!\n"
     ]
    }
   ],
   "source": [
    "def selamla():\n",
    "    print(\"Hoş geldiniz!\")\n",
    "\n",
    "selamla()"
   ]
  },
  {
   "cell_type": "code",
   "execution_count": 2,
   "metadata": {},
   "outputs": [
    {
     "name": "stdout",
     "output_type": "stream",
     "text": [
      "Hoş geldin Bilge\n"
     ]
    }
   ],
   "source": [
    "def selamla(name):\n",
    "    print(f\"Hoş geldin {name}\")\n",
    "\n",
    "selamla(\"Bilge\")"
   ]
  },
  {
   "cell_type": "code",
   "execution_count": 3,
   "metadata": {},
   "outputs": [
    {
     "name": "stdout",
     "output_type": "stream",
     "text": [
      "13\n"
     ]
    }
   ],
   "source": [
    "def add(num1, num2):\n",
    "    num3 = num1 + num2\n",
    "    return num3\n",
    "\n",
    "result = add (4,9)\n",
    "print(result)"
   ]
  },
  {
   "cell_type": "code",
   "execution_count": 8,
   "metadata": {},
   "outputs": [
    {
     "name": "stdout",
     "output_type": "stream",
     "text": [
      "Sonuç: 13\n"
     ]
    }
   ],
   "source": [
    "def add(num1, num2):\n",
    "    return num1 + num2\n",
    "\n",
    "\n",
    "print(\"Sonuç:\", add(4,9))"
   ]
  },
  {
   "cell_type": "code",
   "execution_count": 9,
   "metadata": {},
   "outputs": [],
   "source": [
    "def add(num1, num2):\n",
    "    return num1 + num2\n",
    "\n",
    "def add2(total, x):\n",
    "    print(\"Sonuç:\", (total + x))\n"
   ]
  },
  {
   "cell_type": "markdown",
   "metadata": {},
   "source": [
    "Modülün import edilmesi ile beraber fonksiyon kullanımı"
   ]
  },
  {
   "cell_type": "code",
   "execution_count": 14,
   "metadata": {},
   "outputs": [
    {
     "name": "stdout",
     "output_type": "stream",
     "text": [
      "121\n"
     ]
    }
   ],
   "source": [
    "import random \n",
    "\n",
    "print(random.randint(10,200))"
   ]
  },
  {
   "cell_type": "markdown",
   "metadata": {},
   "source": [
    "Biden fazla dönüş"
   ]
  },
  {
   "cell_type": "code",
   "execution_count": 15,
   "metadata": {},
   "outputs": [],
   "source": [
    "a = b = c = 6\n",
    "a, b, c = 1, 2, 3"
   ]
  },
  {
   "cell_type": "code",
   "execution_count": 16,
   "metadata": {},
   "outputs": [
    {
     "name": "stdout",
     "output_type": "stream",
     "text": [
      "İki değerin;\n",
      "Toplamı: 15\n",
      "Çıkarma: 9\n",
      "Çarpımı: 36\n",
      "Bölme:4.0\n"
     ]
    }
   ],
   "source": [
    "def calculater(num1, num2):\n",
    "    add = num1 + num2\n",
    "    sub = num1 - num2\n",
    "    multiply = num1 * num2 \n",
    "    division = num1 / num2\n",
    "\n",
    "    return add, sub, multiply, division\n",
    "\n",
    "a, b, c, d = calculater(12,3)\n",
    "print(f\"İki değerin;\\nToplamı: {a}\\nÇıkarma: {b}\\nÇarpımı: {c}\\nBölme:{d}\")"
   ]
  },
  {
   "cell_type": "markdown",
   "metadata": {},
   "source": [
    "Fonksiyonlar içerisinde değişkenlerin kapsamı\n",
    "\n",
    "* Yerel Değişken\n",
    "* Global Değişken"
   ]
  },
  {
   "cell_type": "code",
   "execution_count": 19,
   "metadata": {},
   "outputs": [
    {
     "name": "stdout",
     "output_type": "stream",
     "text": [
      "Fonksiyon içerisinde Local\n",
      "Fonksiyo içerisinde Global\n",
      "Fonksiyon dışında Global\n",
      "Fonksiyon dışında Local\n"
     ]
    }
   ],
   "source": [
    "global_variable = \"Global\"\n",
    "\n",
    "def func():\n",
    "    global local_variable\n",
    "    local_variable = \"Local\"\n",
    "    print(\"Fonksiyon içerisinde\", local_variable)\n",
    "    print(\"Fonksiyo içerisinde\", global_variable)\n",
    "\n",
    "func()\n",
    "print(\"Fonksiyon dışında\", global_variable)\n",
    "print(\"Fonksiyon dışında\", local_variable)"
   ]
  },
  {
   "cell_type": "code",
   "execution_count": 20,
   "metadata": {},
   "outputs": [
    {
     "name": "stdout",
     "output_type": "stream",
     "text": [
      "9\n",
      "4\n",
      "9\n"
     ]
    }
   ],
   "source": [
    "a = 9\n",
    "\n",
    "def print1():\n",
    "    print(a) #global\n",
    "\n",
    "def print2():\n",
    "    a = 4 #yerel\n",
    "    print(a)\n",
    "\n",
    "def print3():\n",
    "    print(a) # global\n",
    "\n",
    "print1()\n",
    "print2()\n",
    "print3()"
   ]
  },
  {
   "cell_type": "code",
   "execution_count": 21,
   "metadata": {},
   "outputs": [
    {
     "name": "stdout",
     "output_type": "stream",
     "text": [
      "9\n",
      "4\n",
      "4\n"
     ]
    }
   ],
   "source": [
    "a = 9\n",
    "\n",
    "def print1():\n",
    "    print(a) #global\n",
    "\n",
    "def print2():\n",
    "    global a\n",
    "    a = 4 #yerel\n",
    "    print(a)\n",
    "\n",
    "def print3():\n",
    "    print(a) # global\n",
    "\n",
    "print1()\n",
    "print2()\n",
    "print3()"
   ]
  },
  {
   "cell_type": "markdown",
   "metadata": {},
   "source": [
    "Default parametre tanımlama \n",
    "\n",
    "defalut = varsayılan"
   ]
  },
  {
   "cell_type": "code",
   "execution_count": 26,
   "metadata": {},
   "outputs": [
    {
     "name": "stdout",
     "output_type": "stream",
     "text": [
      "Hoş geldin Hatice\n",
      "Hoş geldin SistersLab\n"
     ]
    }
   ],
   "source": [
    "def say_hello(name = \"SistersLab\"): # default \n",
    "    print(\"Hoş geldin\", name)\n",
    "\n",
    "say_hello(\"Hatice\")\n",
    "say_hello()\n"
   ]
  },
  {
   "cell_type": "code",
   "execution_count": 28,
   "metadata": {},
   "outputs": [
    {
     "name": "stdout",
     "output_type": "stream",
     "text": [
      "Rabia adlı personel 26 yaşında. Maaşı: 10000\n",
      "Zehra adlı personel 25 yaşında. Maaşı: 5000\n"
     ]
    }
   ],
   "source": [
    "def person(name, age, salary = 5000):\n",
    "    print(f\"{name} adlı personel {age} yaşında. Maaşı: {salary}\")\n",
    "\n",
    "person(\"Rabia\", 26, 10000)\n",
    "person(\"Zehra\", 25)"
   ]
  },
  {
   "cell_type": "markdown",
   "metadata": {},
   "source": [
    "def func(*variable) #Birden fazla değer almayı sağlar"
   ]
  },
  {
   "cell_type": "code",
   "execution_count": 30,
   "metadata": {},
   "outputs": [
    {
     "name": "stdout",
     "output_type": "stream",
     "text": [
      "Toplam: 0\n",
      "Toplam: 19\n",
      "Toplam: 110.6\n"
     ]
    }
   ],
   "source": [
    "def add(*numbers):\n",
    "    total = 0\n",
    "    for i in numbers:\n",
    "        total += i\n",
    "    print(\"Toplam:\", total)\n",
    "\n",
    "add() # 0 arguments\n",
    "add(1, 4, 6, 8) # 4 argument\n",
    "add(13.6, 7, 90) # 3 arguments"
   ]
  },
  {
   "cell_type": "code",
   "execution_count": 32,
   "metadata": {},
   "outputs": [
    {
     "name": "stdout",
     "output_type": "stream",
     "text": [
      "3 ile 17 değerleri arasındaki çift sayıların ortalaması: 10.0\n"
     ]
    }
   ],
   "source": [
    "#Kullanıcının girdiği 2 sayı arasındaki çift sayıları bulup ortalamasını alan bir fonksiyon yazalım\n",
    "\n",
    "def is_Even(num):\n",
    "    return num % 2 == 0\n",
    "\n",
    "\n",
    "start = int(input(\"Başlangı. değerini giriniz:\"))\n",
    "end = int(input(\"Bitiş değerini giriniz:\"))\n",
    "\n",
    "total = 0\n",
    "count = 0\n",
    "for item in range(start, end):\n",
    "    if is_Even(item):\n",
    "        total += item\n",
    "        count += 1\n",
    "\n",
    "print(f\"{start} ile {end} değerleri arasındaki çift sayıların ortalaması:\", total/count)\n",
    "\n"
   ]
  },
  {
   "cell_type": "code",
   "execution_count": 37,
   "metadata": {},
   "outputs": [
    {
     "name": "stdout",
     "output_type": "stream",
     "text": [
      "8 sayısı asal değildir.\n"
     ]
    }
   ],
   "source": [
    "#Bir sayının asal olup olmadığını dönen fonksiyonu yazalım\n",
    "\n",
    "def asal(number):\n",
    "    for i in range(2,number):\n",
    "        if number % i == 0 :\n",
    "            result = False\n",
    "            break\n",
    "        else:\n",
    "            return True\n",
    "\n",
    "number = int(input(\"Sayıyı giriniz:\"))\n",
    "if asal(number):\n",
    "    print(f\"{number} sayısı asaldır.\")\n",
    "else:\n",
    "    print(f\"{number} sayısı asal değildir.\")\n"
   ]
  },
  {
   "cell_type": "code",
   "execution_count": null,
   "metadata": {},
   "outputs": [],
   "source": []
  }
 ],
 "metadata": {
  "kernelspec": {
   "display_name": "Python 3.9.6 64-bit",
   "language": "python",
   "name": "python3"
  },
  "language_info": {
   "codemirror_mode": {
    "name": "ipython",
    "version": 3
   },
   "file_extension": ".py",
   "mimetype": "text/x-python",
   "name": "python",
   "nbconvert_exporter": "python",
   "pygments_lexer": "ipython3",
   "version": "3.9.6"
  },
  "orig_nbformat": 4,
  "vscode": {
   "interpreter": {
    "hash": "d148b176bda426fb4b50001d6273c0a18f2bf05b5320f9456b0d68b8d6f9a53f"
   }
  }
 },
 "nbformat": 4,
 "nbformat_minor": 2
}
