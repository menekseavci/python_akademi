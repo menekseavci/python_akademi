{
 "cells": [
  {
   "cell_type": "markdown",
   "metadata": {},
   "source": [
    "**Veri Yapıları**\n",
    "\n",
    "* List\n",
    "* Tuple\n",
    "* Set\n",
    "* Dictionary"
   ]
  },
  {
   "cell_type": "markdown",
   "metadata": {},
   "source": [
    "**Listeler**\n",
    "\n",
    "* index ile erişilebilir, ordered yani sıralıdır.\n",
    "* mutable (değiştirilebilir) yani liste içine eklenen bir veri değiştirilebilir.\n",
    "* [ ] ile tanımlanır. Liste elemanları da \",\" ile ayrılır.\n",
    "* Listeler farklı tipte veriler içerebilir.\n",
    "* Listeler aynı değere dahip 2 elemana sahip olabilir."
   ]
  },
  {
   "cell_type": "code",
   "execution_count": null,
   "metadata": {},
   "outputs": [],
   "source": [
    "name = \"Aysel\" # Not Enough\n",
    "names = [\"Aysel\", \"Menekşe\",\"Başak\"]"
   ]
  },
  {
   "cell_type": "code",
   "execution_count": 3,
   "metadata": {},
   "outputs": [],
   "source": [
    "list_int = [1, 6, 8, 4, -1, 11, 11]\n",
    "list_string = [\"Menekşe\", \"Menekşe\", \"Sude\", \"Melisa\", \"Zeynep\"]\n",
    "list_bool = [True, False]\n",
    "list_float = [1.2, 2.4, 3,6, 4.8]\n",
    "list_mix = [\"Menekşe\", 22, 10000, True, 24.5]\n"
   ]
  },
  {
   "cell_type": "code",
   "execution_count": 6,
   "metadata": {},
   "outputs": [
    {
     "name": "stdout",
     "output_type": "stream",
     "text": [
      "['Menekşe', 22, 10000, True, 24.5]\n",
      "Menekşe\n",
      "22\n",
      "10000\n",
      "True\n",
      "24.5\n"
     ]
    }
   ],
   "source": [
    "print(list_mix)\n",
    "#Pozitif İndex\n",
    "print(list_mix[0]) # O indexi listede 1. değere karşılık gelir\n",
    "print(list_mix[1])\n",
    "print(list_mix[2])\n",
    "print(list_mix[3])\n",
    "print(list_mix[4])"
   ]
  },
  {
   "cell_type": "code",
   "execution_count": 7,
   "metadata": {},
   "outputs": [
    {
     "name": "stdout",
     "output_type": "stream",
     "text": [
      "24.5\n",
      "True\n",
      "10000\n",
      "22\n",
      "Menekşe\n"
     ]
    }
   ],
   "source": [
    "#Negatif İndex tersten ilerler\n",
    "print(list_mix[-1]) #Sondan 1. eleman\n",
    "print(list_mix[-2])\n",
    "print(list_mix[-3])\n",
    "print(list_mix[-4])\n",
    "print(list_mix[-5])"
   ]
  },
  {
   "cell_type": "markdown",
   "metadata": {},
   "source": [
    "* list_mix[7] Hata verir çünkü bu indexte bir eleman yok\n",
    "\n",
    "* list_mix[2.3] Hata verir çünkü index değerleri integer değer almalı"
   ]
  },
  {
   "cell_type": "markdown",
   "metadata": {},
   "source": [
    "**Listelerde Uzunluk**"
   ]
  },
  {
   "cell_type": "code",
   "execution_count": 9,
   "metadata": {},
   "outputs": [
    {
     "name": "stdout",
     "output_type": "stream",
     "text": [
      "5\n"
     ]
    }
   ],
   "source": [
    "print(len(list_mix)) # İndex sayısını değil eleman sayısını verir"
   ]
  },
  {
   "cell_type": "code",
   "execution_count": null,
   "metadata": {},
   "outputs": [],
   "source": []
  }
 ],
 "metadata": {
  "kernelspec": {
   "display_name": "Python 3.9.6 64-bit",
   "language": "python",
   "name": "python3"
  },
  "language_info": {
   "codemirror_mode": {
    "name": "ipython",
    "version": 3
   },
   "file_extension": ".py",
   "mimetype": "text/x-python",
   "name": "python",
   "nbconvert_exporter": "python",
   "pygments_lexer": "ipython3",
   "version": "3.9.6"
  },
  "orig_nbformat": 4,
  "vscode": {
   "interpreter": {
    "hash": "d148b176bda426fb4b50001d6273c0a18f2bf05b5320f9456b0d68b8d6f9a53f"
   }
  }
 },
 "nbformat": 4,
 "nbformat_minor": 2
}
