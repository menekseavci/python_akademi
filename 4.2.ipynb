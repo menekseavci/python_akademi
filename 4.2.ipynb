{
 "cells": [
  {
   "cell_type": "markdown",
   "metadata": {},
   "source": [
    "Sayı Tahmin Oyunu\n",
    "* Random modülü ile bir sayı tutunuz\n",
    "* guess adında bir fonksiyon yazılacak\n",
    "* input ile kullanıcıdan tahminde bulunması istenip ardından yönlendirilecek"
   ]
  },
  {
   "cell_type": "code",
   "execution_count": 16,
   "metadata": {},
   "outputs": [
    {
     "name": "stdout",
     "output_type": "stream",
     "text": [
      "Daha büyük bir tahminde bulununuz\n",
      "Daha büyük bir tahminde bulununuz\n",
      "Daha büyük bir tahminde bulununuz\n",
      "Tahminizi küçültünüz\n",
      "Tahminizi küçültünüz\n",
      "Tahminizi küçültünüz\n",
      "Tahminizi küçültünüz\n",
      "Tahminizi küçültünüz\n",
      "Tahminizi küçültünüz\n",
      "Tahminizi küçültünüz\n",
      "Tahminizi küçültünüz\n",
      "Daha büyük bir tahminde bulununuz\n",
      "Daha büyük bir tahminde bulununuz\n",
      "Daha büyük bir tahminde bulununuz\n",
      "Tebrikler doğru tahminde bulundunuz.\n"
     ]
    }
   ],
   "source": [
    "from random import randint\n",
    "\n",
    "def guess(number):\n",
    "    user_number = int(input(\"Bir tahminde bulununuz:\"))\n",
    "    while number != user_number:\n",
    "        if number < user_number:\n",
    "            print(\"Tahminizi küçültünüz\")\n",
    "        else:\n",
    "            print(\"Daha büyük bir tahminde bulununuz\")\n",
    "        user_number = int(input(\"Lütfen yeniden bir tahminde bulununuz!:\"))\n",
    "    else:\n",
    "        print(\"Tebrikler doğru tahminde bulundunuz.\")\n",
    "\n",
    "guess(randint(1, 100))\n"
   ]
  },
  {
   "cell_type": "code",
   "execution_count": 21,
   "metadata": {},
   "outputs": [
    {
     "name": "stdout",
     "output_type": "stream",
     "text": [
      "Tebrikler! Doğru tahmin\n"
     ]
    }
   ],
   "source": [
    "import random\n",
    "\n",
    "def computer_guess(x):\n",
    "    start = 1\n",
    "    end = 100\n",
    "    result = \"\"\n",
    "    while result != \"d\" :\n",
    "        guess = random.randint(start, end)\n",
    "        result = input(f\"{guess} değeri aklından tuttuğun değerden büyükse (b) küçükse (k), doğruysa (d)\").lower()\n",
    "        if result == \"b\":\n",
    "            end = guess -1\n",
    "        elif result == \"k\":\n",
    "            start = guess + 1\n",
    "\n",
    "    print(\"Tebrikler! Doğru tahmin\")\n",
    "\n",
    "\n",
    "computer_guess(19)"
   ]
  },
  {
   "cell_type": "markdown",
   "metadata": {},
   "source": [
    "Taş-Kağıt-Makas Oyunu\n",
    "* Kağıt taşı yener\n",
    "* Taş makası yener\n",
    "* Makas kağıdı yener"
   ]
  },
  {
   "cell_type": "code",
   "execution_count": 14,
   "metadata": {},
   "outputs": [
    {
     "name": "stdout",
     "output_type": "stream",
     "text": [
      "Taş Kağıt Makas Oyununa Hoşgeldiniz\n",
      "-------------------------------------\n",
      "\n",
      "1- Taş\n",
      "2- Kağıt\n",
      "3- Makas\n",
      " Oyundan çıkmak için bu değerler dışında bir değer giriniz\n",
      "Kullanıcı Skoru: 0 - Bilgisayar Skoru: 0\n",
      "Durum Berabere\n"
     ]
    }
   ],
   "source": [
    "import random\n",
    "player_score = computer_score = 0\n",
    "computer_choice = 0\n",
    "def print_result(winner = \"Bilgisayar\"):\n",
    "    print(f\"Bilgisayarın Seçimi: {computer_choice}\\n\\nKazanan : {winner}\")\n",
    "    global computer_score, player_score\n",
    "    if winner == \"Bilgisayar\":\n",
    "        computer_score += 100\n",
    "    else:\n",
    "        player_score += 100\n",
    "\n",
    "print(\"Taş Kağıt Makas Oyununa Hoşgeldiniz\\n\" + \"-\"*37)\n",
    "\n",
    "while True:\n",
    "    print(\"\\n1- Taş\\n2- Kağıt\\n3- Makas\\n Oyundan çıkmak için bu değerler dışında bir değer giriniz\")\n",
    "    player_choice = int(input(\"Seçiminizi yapınız:\"))\n",
    "    computer_choice = random.choice([1,2,3])\n",
    "\n",
    "    if player_choice == computer_choice:\n",
    "        print(\"Yeniden Oynayınız\")\n",
    "    elif player_choice == 1:\n",
    "        if computer_choice == 2:\n",
    "            print_result()\n",
    "        elif computer_choice == 3:\n",
    "            print_result(\"Kullanıcı\")\n",
    "    elif player_choice == 2:\n",
    "        if computer_choice == 1:\n",
    "            print_result(\"Kullanıcı\")\n",
    "        elif computer_choice == 3:\n",
    "            print_result()\n",
    "    elif player_choice == 3:\n",
    "        if computer_choice == 1:\n",
    "            print_result()\n",
    "        elif computer_choice == 2:\n",
    "            print_result(\"Kullanıcı\")\n",
    "    else:\n",
    "        break\n",
    "\n",
    "print(f\"Kullanıcı Skoru: {player_score} - Bilgisayar Skoru: {computer_score}\")\n",
    "if player_score < computer_score:\n",
    "    print(\"Kazanan: Bilgisayar\")\n",
    "elif computer_score < player_score:\n",
    "    print(\"Kazanan: Kullanıcı\")\n",
    "else:\n",
    "    print(\"Durum Berabere\")"
   ]
  },
  {
   "cell_type": "markdown",
   "metadata": {},
   "source": []
  },
  {
   "cell_type": "code",
   "execution_count": null,
   "metadata": {},
   "outputs": [],
   "source": []
  }
 ],
 "metadata": {
  "kernelspec": {
   "display_name": "Python 3.9.6 64-bit",
   "language": "python",
   "name": "python3"
  },
  "language_info": {
   "codemirror_mode": {
    "name": "ipython",
    "version": 3
   },
   "file_extension": ".py",
   "mimetype": "text/x-python",
   "name": "python",
   "nbconvert_exporter": "python",
   "pygments_lexer": "ipython3",
   "version": "3.9.6"
  },
  "orig_nbformat": 4,
  "vscode": {
   "interpreter": {
    "hash": "d148b176bda426fb4b50001d6273c0a18f2bf05b5320f9456b0d68b8d6f9a53f"
   }
  }
 },
 "nbformat": 4,
 "nbformat_minor": 2
}
