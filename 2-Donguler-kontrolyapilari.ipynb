{
 "cells": [
  {
   "cell_type": "code",
   "execution_count": null,
   "metadata": {},
   "outputs": [],
   "source": [
    "2"
   ]
  }
 ],
 "metadata": {
  "kernelspec": {
   "display_name": "Python 3.9.6 64-bit",
   "language": "python",
   "name": "python3"
  },
  "language_info": {
   "name": "python",
   "version": "3.9.6"
  },
  "orig_nbformat": 4,
  "vscode": {
   "interpreter": {
    "hash": "d148b176bda426fb4b50001d6273c0a18f2bf05b5320f9456b0d68b8d6f9a53f"
   }
  }
 },
 "nbformat": 4,
 "nbformat_minor": 2
}
